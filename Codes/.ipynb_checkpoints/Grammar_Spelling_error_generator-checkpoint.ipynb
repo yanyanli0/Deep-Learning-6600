{
 "cells": [
  {
   "cell_type": "code",
   "execution_count": 1,
   "metadata": {},
   "outputs": [],
   "source": [
    "import random\n",
    "import re\n",
    "import pandas as pd"
   ]
  },
  {
   "cell_type": "code",
   "execution_count": 8,
   "metadata": {},
   "outputs": [],
   "source": [
    "#code source: https://suraj1997lodh.medium.com/grammar-error-handling-and-correction-with-dataset-creation-e446fa6863b8\n",
    "\n",
    "#CREATING A FNC TO GENERATE ERROR IN SENTENCE\n",
    "letters    = 'abcdefghijklmnopqrstuvwxyz'\n",
    "preposition = [\"in\", \"on\", \"at\", \"since\", \"for\", \"ago\", \"before\", \"to\", \"past\", \"till\", \"until\", \"by\", \"under\", \"below\", \"over\", \"above\", \"across\", \"through\", \"into\", \"towards\", \"onto\", \"from\"]\n",
    "def generate_error(sentence):\n",
    "    \n",
    "    #THIS WILL DECIDE 2 ERRORS\n",
    "    rand_1 = random.randint(1,8)\n",
    "    rand_2 = random.randint(1,8)\n",
    "#     print(rand_1 , rand_2)\n",
    "    if rand_1 == 1 or rand_2 ==2:\n",
    "        #SPELLING ERROR\n",
    "        #CREATING ERROR IN SENTENCE BY REPLACING A RANDOM WORD IN SENTENTENCE WITH A RANDOM WORD\n",
    "        x = random.randint(0,25)\n",
    "        y = random.randint(0,25)\n",
    "        sentence = sentence.replace(letters[x], letters[y])\n",
    "\n",
    "    elif rand_1 == 2 or rand_2 ==3:\n",
    "        #PREPOSITION ERROR\n",
    "        #CREATING ERROR IN SENTENCE BY DELETING A PREPOSITION\n",
    "        for i in sentence.split() :\n",
    "            if i in preposition:\n",
    "                sentence = re.sub(i[0] , i[1],sentence)\n",
    "\n",
    "    elif rand_1 == 2 or rand_2 ==3:\n",
    "        #INTRODUCING ARTICLE ERROR\n",
    "        #CREATING ERROR IN SENTENCE BY DELETING A ARTICLE AT SOME PLACES\n",
    "        sentence = re.sub('an ' , '' , sentence)\n",
    "        sentence =  re.sub('a ' , '' , sentence)\n",
    "        sentence =  re.sub('the ' , '' , sentence)\n",
    "        \n",
    "        \n",
    "    elif rand_1 == 3 or rand_2 ==4:\n",
    "        #INTRODUCING REDUNDANCY\n",
    "        #REPEATING A WORD IN SENTENCE\n",
    "        rep = sentence.split(' ')\n",
    "        w = random.randint(0,len(rep) - 1)\n",
    "        f = rep[:w + 1] + [rep[w]] + rep[w+1:]\n",
    "        sentence = ' '.join(f)\n",
    "\n",
    "    elif rand_1 == 5 or rand_2 ==6:\n",
    "        #OTHER ERRROR : MISSING ERROR\n",
    "        #CREATING ERROR IN SENTENCE BY DELETING A RANDOM WORD IN SENTENTENCE \n",
    "        delete = sentence.split(' ')\n",
    "        w = random.randint(0,len(delete) - 1)\n",
    "        sentence = re.sub(delete[w] , '' , sentence)\n",
    "\n",
    "    else :\n",
    "        pass\n",
    "    return sentence\n"
   ]
  },
  {
   "cell_type": "code",
   "execution_count": 9,
   "metadata": {},
   "outputs": [],
   "source": [
    "def pre_process(sample):\n",
    "\n",
    "    tags = re.compile('<.*?>')\n",
    "    sample = re.sub(tags, '', sample)\n",
    "    \n",
    "    sample = re.sub(r'[^\\w]', ' ', sample)\n",
    "\n",
    "    sample = re.sub(\"[\\(\\[].*?[\\)\\]]\", \"\", sample)\n",
    "    sample =  sample.replace('\\t', ' ').replace('\\n', '').replace('-', '')#.replace(' ', '')\n",
    "\n",
    "    #CODE FROM REFERENCE NOTEBOOK OF DONORS CHOSE DATASET\n",
    "    def decontracted(phrase):\n",
    "        # specific\n",
    "        phrase = re.sub(r\"won't\", \"will not\", phrase)\n",
    "        phrase = re.sub(r\"can\\'t\", \"can not\", phrase)\n",
    "\n",
    "        # general\n",
    "        phrase = re.sub(r\"n\\'t\", \" not\", phrase)\n",
    "        phrase = re.sub(r\"\\'re\", \" are\", phrase)\n",
    "        phrase = re.sub(r\"\\'s\", \" is\", phrase)\n",
    "        phrase = re.sub(r\"\\'d\", \" would\", phrase)\n",
    "        phrase = re.sub(r\"\\'ll\", \" will\", phrase)\n",
    "        phrase = re.sub(r\"\\'t\", \" not\", phrase)\n",
    "        phrase = re.sub(r\"\\'ve\", \" have\", phrase)\n",
    "        phrase = re.sub(r\"\\'m\", \" am\", phrase)\n",
    "        return phrase\n",
    "    sample = decontracted(sample)\n",
    "\n",
    "\n",
    "\n",
    "    return (sample)"
   ]
  },
  {
   "cell_type": "code",
   "execution_count": 10,
   "metadata": {},
   "outputs": [],
   "source": [
    "# Read the text from the file\n",
    "with open('../Data/Ted_Talk.txt', 'r') as file:\n",
    "    text = file.read()"
   ]
  },
  {
   "cell_type": "code",
   "execution_count": 11,
   "metadata": {},
   "outputs": [
    {
     "name": "stdout",
     "output_type": "stream",
     "text": [
      "The DataFrame has been saved to 'Ted_talk_sentences.csv'\n"
     ]
    }
   ],
   "source": [
    "sentences = text.split('.')\n",
    "\n",
    "# error generation to each sentence\n",
    "incorrect_sentences = [pre_process(generate_error(sentence)) for sentence in sentences]\n",
    "\n",
    "\n",
    "df = pd.DataFrame({\n",
    "    'correct': sentences,\n",
    "    'incorrect': incorrect_sentences\n",
    "})\n",
    "\n",
    "# Drop any empty rows that might have been created due to trailing periods\n",
    "df.replace('', pd.NA, inplace=True)\n",
    "df.dropna(inplace=True)\n",
    "\n",
    "# Save the DataFrame to a new CSV file\n",
    "df.to_csv('Ted_talk_sentences.csv', index=False)\n",
    "\n",
    "print(\"The DataFrame has been saved to 'Ted_talk_sentences.csv'\")"
   ]
  },
  {
   "cell_type": "code",
   "execution_count": 13,
   "metadata": {},
   "outputs": [
    {
     "data": {
      "text/html": [
       "<div>\n",
       "<style scoped>\n",
       "    .dataframe tbody tr th:only-of-type {\n",
       "        vertical-align: middle;\n",
       "    }\n",
       "\n",
       "    .dataframe tbody tr th {\n",
       "        vertical-align: top;\n",
       "    }\n",
       "\n",
       "    .dataframe thead th {\n",
       "        text-align: right;\n",
       "    }\n",
       "</style>\n",
       "<table border=\"1\" class=\"dataframe\">\n",
       "  <thead>\n",
       "    <tr style=\"text-align: right;\">\n",
       "      <th></th>\n",
       "      <th>correct</th>\n",
       "      <th>incorrect</th>\n",
       "    </tr>\n",
       "  </thead>\n",
       "  <tbody>\n",
       "    <tr>\n",
       "      <th>0</th>\n",
       "      <td>﻿This is Mabel</td>\n",
       "      <td>This is Mabel</td>\n",
       "    </tr>\n",
       "    <tr>\n",
       "      <th>1</th>\n",
       "      <td>Mabel is an aphid, a small insect in the same...</td>\n",
       "      <td>Mabel is an aphid  a small insect in the same...</td>\n",
       "    </tr>\n",
       "    <tr>\n",
       "      <th>2</th>\n",
       "      <td>All these bugs pierce their prey and suck out...</td>\n",
       "      <td>All these bkgs pierce their prey and skck okt...</td>\n",
       "    </tr>\n",
       "    <tr>\n",
       "      <th>3</th>\n",
       "      <td>Aphids’ prey are plants</td>\n",
       "      <td>Aphids  prey are plants</td>\n",
       "    </tr>\n",
       "    <tr>\n",
       "      <th>4</th>\n",
       "      <td>And what aphids are after is buried within th...</td>\n",
       "      <td>And what aphids are after is buried within th...</td>\n",
       "    </tr>\n",
       "  </tbody>\n",
       "</table>\n",
       "</div>"
      ],
      "text/plain": [
       "                                             correct  \\\n",
       "0                                     ﻿This is Mabel   \n",
       "1   Mabel is an aphid, a small insect in the same...   \n",
       "2   All these bugs pierce their prey and suck out...   \n",
       "3                            Aphids’ prey are plants   \n",
       "4   And what aphids are after is buried within th...   \n",
       "\n",
       "                                           incorrect  \n",
       "0                                      This is Mabel  \n",
       "1   Mabel is an aphid  a small insect in the same...  \n",
       "2   All these bkgs pierce their prey and skck okt...  \n",
       "3                            Aphids  prey are plants  \n",
       "4   And what aphids are after is buried within th...  "
      ]
     },
     "execution_count": 13,
     "metadata": {},
     "output_type": "execute_result"
    }
   ],
   "source": [
    "df.head()"
   ]
  },
  {
   "cell_type": "code",
   "execution_count": null,
   "metadata": {},
   "outputs": [],
   "source": []
  }
 ],
 "metadata": {
  "kernelspec": {
   "display_name": "Python 3 (ipykernel)",
   "language": "python",
   "name": "python3"
  },
  "language_info": {
   "codemirror_mode": {
    "name": "ipython",
    "version": 3
   },
   "file_extension": ".py",
   "mimetype": "text/x-python",
   "name": "python",
   "nbconvert_exporter": "python",
   "pygments_lexer": "ipython3",
   "version": "3.8.5"
  }
 },
 "nbformat": 4,
 "nbformat_minor": 2
}
